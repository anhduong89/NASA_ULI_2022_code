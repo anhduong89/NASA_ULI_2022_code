{
 "cells": [
  {
   "cell_type": "code",
   "execution_count": 14,
   "metadata": {},
   "outputs": [],
   "source": [
    "import re\n",
    "import numpy as np\n",
    "import pandas as pd\n",
    "import copy"
   ]
  },
  {
   "cell_type": "code",
   "execution_count": 64,
   "metadata": {},
   "outputs": [],
   "source": [
    "#example\n",
    "data_raw = 'dl(beforeCharge(0,0),0) dl(beforeCharge(0,1),0) dl(beforeCharge(0,2),5) dl(beforeCharge(0,3),5) dl(beforeCharge(0,4),5) dl(beforeCharge(0,5),5) dl(beforeCharge(0,6),28) dl(beforeCharge(0,7),28) dl(beforeCharge(0,8),28) dl(beforeCharge(0,9),28) dl(beforeCharge(0,10),28) dl(afterCharge(0,0),0) dl(afterCharge(0,1),60) dl(afterCharge(0,2),5) dl(afterCharge(0,3),5) dl(afterCharge(0,4),5) dl(afterCharge(0,5),60) dl(afterCharge(0,6),28) dl(afterCharge(0,7),28) dl(afterCharge(0,8),28) dl(afterCharge(0,9),28) dl(afterCharge(0,10),0) dl(start(0,(mgt,mgt),9),202) dl(start(0,(lbm,lbm),2),115) dl(start(0,(lbm,lbm),3),115) dl(start(0,(lbm,lbm),4),115) dl(start(0,(lbm,mgt),5),170) dl(start(0,(mgt,mgt),6),202) dl(start(0,(mgt,mgt),7),202) dl(start(0,(mgt,mgt),8),202) dl(start(0,(tci,lbm),1),60) dl(start(0,(tci,tci),0),0) as(0,(tci,tci),0) as(0,(tci,lbm),1) as(0,(lbm,lbm),2) as(0,(lbm,lbm),3) as(0,(lbm,lbm),4) as(0,(lbm,mgt),5) as(0,(mgt,mgt),6) as(0,(mgt,mgt),7) as(0,(mgt,mgt),8) as(0,(mgt,mgt),9) ch_time(0,0,0) ch_time(0,2,0) ch_time(0,3,0) ch_time(0,4,0) ch_time(0,6,0) ch_time(0,7,0) ch_time(0,8,0) ch_time(0,9,0) cost(0,0,0) cost(0,60,1) ch_time(0,1,12) cost(0,120,1) cost(0,0,2) cost(0,0,3) cost(0,0,4) ch_time(0,5,11)'\n",
    "atom_pattern = [\"dl\\((?!start).*\", \"dl\\(start.*\", \"ch_time.*\"]\n",
    "nb_term = [4, 6, 3]\n",
    "term_int_not_change = [[0], [0, 2, 3 ], [0]]\n",
    "reverse = [[True, False, False], [False, False], [False, False]]\n",
    "sort_order = [[0, 2, 1], [5, 1], [1, 0]]"
   ]
  },
  {
   "cell_type": "code",
   "execution_count": 58,
   "metadata": {},
   "outputs": [],
   "source": [
    "\n",
    "\n",
    "def print_atom(data_raw, atom_pattern, nb_term, term_not_int_change, reverse, sort_order):\n",
    "    out = []\n",
    "    for p in range(0, len(atom_pattern)):\n",
    "        data = re.sub(' ', '\\n', data_raw)\n",
    "        data = re.findall(atom_pattern[p], data)\n",
    "\n",
    "        data = [re.sub(\"dl\\(\", \"\", i) for i in data]\n",
    "        data = [re.sub(\"\\(\", \",\", i) for i in data]\n",
    "        data = [re.sub(\"\\)\", \"\", i) for i in data]\n",
    "        data = [re.sub(\",,\", \",\", i) for i in data]\n",
    "\n",
    "        data = [i.split(\",\") for i in data]\n",
    "        data = [[int(i) if k not in term_not_int_change[p] else i for i, k in zip(j,range(0, nb_term[p]))] for j in data]\n",
    "        # print(data)\n",
    "        for s, r in zip(sort_order[p], range(0, len(sort_order[p]))):\n",
    "            # print('s', s, 'p', p)\n",
    "            data = sorted(data, key = lambda x:x[s], reverse=reverse[p][r])\n",
    "            \n",
    "        out = out+data\n",
    "    # Name of the output text file\n",
    "    output_file = 'output_sort.txt'\n",
    "\n",
    "    # Open the text file in write mode\n",
    "    with open(output_file, 'w') as file:\n",
    "        # Iterate over each row in the list\n",
    "        for row in out:\n",
    "            # Convert each element to string and join them with tab separator\n",
    "            line = '\\t'.join(map(str, row))\n",
    "            # Write the line to the text file\n",
    "            file.write(line + '\\n')\n",
    "\n",
    "    print(\"Text file created successfully:\", output_file)\n",
    "\n",
    "    \n"
   ]
  },
  {
   "cell_type": "code",
   "execution_count": 65,
   "metadata": {},
   "outputs": [
    {
     "name": "stdout",
     "output_type": "stream",
     "text": [
      "Text file created successfully: output_sort.txt\n"
     ]
    }
   ],
   "source": [
    "print_atom(data_raw, atom_pattern, nb_term, term_int_not_change, reverse, sort_order)"
   ]
  },
  {
   "cell_type": "code",
   "execution_count": null,
   "metadata": {},
   "outputs": [],
   "source": [
    "# time schedule\n",
    "data = re.sub(' ', '\\n', data_raw)\n",
    "data = re.findall(\"dl\\((?!start).*\", data)\n",
    "# data.split()\n",
    "#re.sub(\"your_pattern\", \"replace_by\", sentence)\n",
    "\n",
    "data = [re.sub(\"dl\\(\", \"\", i) for i in data]\n",
    "data = [re.sub(\"\\(\", \",\", i) for i in data]\n",
    "data = [re.sub(\"\\)\", \"\", i) for i in data]\n",
    "# data = [re.sub(\",,\", \",\", i) for i in data]\n",
    "\n",
    "data = [i.split(\",\") for i in data]\n",
    "data = [[int(i) if k !=0 else i for i, k in zip(j,range(0, 5))] for j in data]\n",
    "data = sorted(data, key = lambda x:x[0], reverse=True)\n",
    "data = sorted(data, key = lambda x:x[2])\n",
    "data = sorted(data, key = lambda x:x[1])\n",
    "out = copy.deepcopy(data)\n",
    "\n",
    "#start atom\n",
    "data = re.sub(' ', '\\n', data_raw)\n",
    "data = re.findall(\"dl\\(start.*\", data)\n",
    "# data.split()\n",
    "#re.sub(\"your_pattern\", \"replace_by\", sentence)\n",
    "\n",
    "data = [re.sub(\"dl\\(\", \"\", i) for i in data]\n",
    "data = [re.sub(\"\\(\", \",\", i) for i in data]\n",
    "data = [re.sub(\"\\)\", \"\", i) for i in data]\n",
    "data = [re.sub(\",,\", \",\", i) for i in data]\n",
    "\n",
    "data = [i.split(\",\") for i in data]\n",
    "data = [[int(i) if k !=0 and k!=2 and k!=3 else i for i, k in zip(j,range(0, 6))] for j in data]\n",
    "data = sorted(data, key = lambda x:x[5])\n",
    "data = sorted(data, key = lambda x:x[1])\n",
    "out = out + data\n",
    "print(data)\n",
    "# f = open(\"viz_dl.txt\",\"w+\")\n",
    "# for i in data:\n",
    "#     f.write(str(i)+\"\\n\")\n",
    "# f.close()"
   ]
  },
  {
   "cell_type": "code",
   "execution_count": 20,
   "metadata": {},
   "outputs": [
    {
     "name": "stdout",
     "output_type": "stream",
     "text": [
      "['as(0,(mgt,mbf),0)', 'as(0,(mbf,tci),1)', 'as(0,(tci,lbm),2)', 'as(1,(mbf,lbm),0)', 'as(1,(lbm,crj),1)', 'as(1,(crj,mbf),2)']\n"
     ]
    }
   ],
   "source": [
    "data = re.sub(' ', '\\n', data_raw)\n",
    "data = re.findall(\"dl\\((?!start).*\", data)\n",
    "# data.split()\n",
    "#re.sub(\"your_pattern\", \"replace_by\", sentence)\n",
    "\n",
    "data = [re.sub(\"dl\\(\", \"\", i) for i in data]\n",
    "data = [re.sub(\"\\(\", \",\", i) for i in data]\n",
    "data = [re.sub(\"\\)\", \"\", i) for i in data]\n",
    "# data = [re.sub(\",,\", \",\", i) for i in data]\n",
    "\n",
    "data = [i.split(\",\") for i in data]\n",
    "data = [[int(i) if k !=0 else i for i, k in zip(j,range(0, 5))] for j in data]\n",
    "data = sorted(data, key = lambda x:x[0], reverse=True)\n",
    "data = sorted(data, key = lambda x:x[2])\n",
    "data = sorted(data, key = lambda x:x[1])\n",
    "\n",
    "    "
   ]
  }
 ],
 "metadata": {
  "kernelspec": {
   "display_name": "nasa-2",
   "language": "python",
   "name": "python3"
  },
  "language_info": {
   "codemirror_mode": {
    "name": "ipython",
    "version": 3
   },
   "file_extension": ".py",
   "mimetype": "text/x-python",
   "name": "python",
   "nbconvert_exporter": "python",
   "pygments_lexer": "ipython3",
   "version": "3.10.13"
  }
 },
 "nbformat": 4,
 "nbformat_minor": 2
}
